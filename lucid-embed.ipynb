{
  "cells": [
    {
      "cell_type": "raw",
      "metadata": {},
      "source": [
        "---\n",
        "title: \"Lucid Chart Embedding in Quarto\"\n",
        "format:\n",
        "  revealjs:\n",
        "    code-copy: true\n",
        "    theme: styles.scss\n",
        "width: 2500\n",
        "height: 1406\n",
        "---"
      ],
      "id": "20dc74d4"
    },
    {
      "cell_type": "markdown",
      "metadata": {},
      "source": [
        "# Why would you embed an iframe of a Lucid Chart instead of just a screenshot of it?\n",
        "\n",
        ":::{.fragment}\n",
        "Lucid charts can have interactive layers and action buttons, making it possible to incrementally reveal portions of a larger more complex diagram. This gradual build up is easier for viewers to follow than a giant diagram presented all at once.\n",
        ":::"
      ],
      "id": "e68ab0d0"
    },
    {
      "cell_type": "raw",
      "metadata": {},
      "source": [
        "---\n",
        "\n",
        ":::{.r-stretch}\n",
        "<iframe allowfullscreen frameborder=\"0\" style=\"width:1800px; height:1125px;\" src=\"https://lucid.app/documents/embedded/8bc2637d-8ba2-481d-80a6-7ddc3575b3f4\" id=\"IMXr7.a1dSVA\"></iframe>\n",
        ":::\n",
        "\n",
        "# Now using Quarto fragments\n",
        "\n",
        ":::{.fragment}\n",
        "A similar effect can be achieved with [Quarto fragments](https://quarto.org/docs/presentations/revealjs/advanced.html#fragments). I use a screenshot of the whole diagram that has been sliced into multiple images using Adobe Illustrator. In Quarto, each image is then loaded in a `{.fragment #id}` element, and each each id has a CSS chunk that specifies its absolute position.  \n",
        ":::\n",
        "\n",
        "---"
      ],
      "id": "5b7b74ef"
    },
    {
      "cell_type": "markdown",
      "metadata": {},
      "source": [
        ":::{#workbench}\n",
        "![](images/workbench.png)\n",
        ":::\n",
        "\n",
        ":::{.fragment #connect}\n",
        "![](images/connect.png)\n",
        ":::\n",
        "\n",
        ":::{.fragment #ppm}\n",
        "![](images/ppm.png)\n",
        ":::\n",
        "\n",
        ":::{.fragment #hexes}\n",
        "![](images/team-hexes.png)\n",
        ":::\n",
        "\n",
        ":::{.fragment #link}\n",
        "[https://solutions.posit.co/gallery/bike_predict/](https://solutions.posit.co/gallery/bike_predict/)\n",
        ":::\n",
        "\n",
        "## Resources\n",
        "\n",
        "Full code at\n",
        "\n",
        "Preview of some of the CSS:\n",
        "\n",
        "\n",
        "```{verbatim, lang=\"CSS\"}\n",
        "\n",
        "#workbench {\n",
        "    position: absolute;\n",
        "    top: 4px;\n",
        "    left: 5px;\n",
        "}\n",
        "\n",
        "#connect {\n",
        "    position: absolute;\n",
        "    top: 4px;\n",
        "    left: 919px;\n",
        "}\n",
        "\n",
        "#ppm {\n",
        "    position: absolute;\n",
        "    top: 683px;\n",
        "    left: 5px;\n",
        "}\n",
        "```"
      ],
      "id": "ba479514"
    }
  ],
  "metadata": {
    "kernelspec": {
      "display_name": "Python 3",
      "language": "python",
      "name": "python3"
    }
  },
  "nbformat": 4,
  "nbformat_minor": 5
}